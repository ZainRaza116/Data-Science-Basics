{
  "nbformat": 4,
  "nbformat_minor": 0,
  "metadata": {
    "colab": {
      "provenance": []
    },
    "kernelspec": {
      "name": "python3",
      "display_name": "Python 3"
    },
    "language_info": {
      "name": "python"
    }
  },
  "cells": [
    {
      "cell_type": "code",
      "execution_count": 4,
      "metadata": {
        "id": "KmniZtkUrFyY"
      },
      "outputs": [],
      "source": [
        "import pandas as pd\n",
        "import re\n",
        "import seaborn as sn\n",
        "import matplotlib.pyplot as plt"
      ]
    },
    {
      "cell_type": "code",
      "source": [
        "from google.colab import drive\n",
        "drive.mount('/content/drive')"
      ],
      "metadata": {
        "colab": {
          "base_uri": "https://localhost:8080/"
        },
        "id": "15Zh5vxzufZU",
        "outputId": "8dd477c0-ff6f-47ba-a282-49d6deffaa9d"
      },
      "execution_count": 6,
      "outputs": [
        {
          "output_type": "stream",
          "name": "stdout",
          "text": [
            "Mounted at /content/drive\n"
          ]
        }
      ]
    },
    {
      "cell_type": "code",
      "source": [
        "df = pd.read_csv(('/content/drive/My Drive/the-hello-dataset-fa22.csv'))\n",
        "\n",
        "y = df['Name']\n",
        "print(y) "
      ],
      "metadata": {
        "colab": {
          "base_uri": "https://localhost:8080/"
        },
        "id": "cfqTvkjXI53i",
        "outputId": "ee3659b6-f58f-43a9-bb2d-195ce77ef594"
      },
      "execution_count": 9,
      "outputs": [
        {
          "output_type": "stream",
          "name": "stdout",
          "text": [
            "0           Muhammad Usman\n",
            "1              Taha Ishfaq\n",
            "2          Muhammad Hamdan\n",
            "3      Syeda Maham Gillani\n",
            "4               Umar Wasim\n",
            "              ...         \n",
            "129       M Abubakar Malik\n",
            "130           Muhammad Ali\n",
            "131           shafaqat ali\n",
            "132            Ammar Asif \n",
            "133        Muhammad Zubair\n",
            "Name: Name, Length: 134, dtype: object\n"
          ]
        }
      ]
    },
    {
      "cell_type": "code",
      "source": [
        "check = df['Name'].str[0]"
      ],
      "metadata": {
        "id": "vi1_ZOUbKBF0"
      },
      "execution_count": 10,
      "outputs": []
    },
    {
      "cell_type": "code",
      "source": [
        "for i in range(len(check)):\n",
        "  if(check[i] == 'h'or check[i] == 'H'):\n",
        "    print(y[i])"
      ],
      "metadata": {
        "id": "dvUd24c1KPwF"
      },
      "execution_count": null,
      "outputs": []
    },
    {
      "cell_type": "code",
      "source": [
        "for i in range(len(y)):\n",
        "  x = y[i].split()\n",
        "  if (len(x) == 3):\n",
        "    print(y[i])"
      ],
      "metadata": {
        "id": "VFtYInWVKTtQ"
      },
      "execution_count": null,
      "outputs": []
    },
    {
      "cell_type": "code",
      "source": [
        "check = df['CGPA']"
      ],
      "metadata": {
        "id": "x4IohIMUKaDx"
      },
      "execution_count": null,
      "outputs": []
    },
    {
      "cell_type": "code",
      "source": [
        "for i in range(len(check)):\n",
        "  val = float(check[i])\n",
        "  if(val >= 3):\n",
        "    print(check[i])"
      ],
      "metadata": {
        "id": "mJFtqXO7KeuV"
      },
      "execution_count": null,
      "outputs": []
    },
    {
      "cell_type": "code",
      "source": [
        "g= df['Gender']\n",
        "print(g) "
      ],
      "metadata": {
        "id": "rGRjGpm2Ktxi"
      },
      "execution_count": null,
      "outputs": []
    },
    {
      "cell_type": "code",
      "source": [
        "check = df['Gender']"
      ],
      "metadata": {
        "id": "5agBsqNzKzhX"
      },
      "execution_count": null,
      "outputs": []
    },
    {
      "cell_type": "code",
      "source": [
        "male=0\n",
        "female=0\n",
        "for i in range(len(check)):\n",
        "  if(check[i] == 'Male'):\n",
        "    male=male+1\n",
        "  if(check[i]=='Female'):\n",
        "    female=female+1\n"
      ],
      "metadata": {
        "id": "jBMlZ_CgK4Pn"
      },
      "execution_count": null,
      "outputs": []
    },
    {
      "cell_type": "code",
      "source": [
        "import matplotlib.pyplot as plt\n",
        "import numpy as np\n",
        "\n",
        "\n",
        "\n",
        "y = np.array([male,female])\n",
        "\n",
        "plt.pie(y)\n",
        "plt.show()"
      ],
      "metadata": {
        "id": "eLH2ZXrxK9Sq"
      },
      "execution_count": null,
      "outputs": []
    },
    {
      "cell_type": "code",
      "source": [
        "import matplotlib.pyplot as pyplot"
      ],
      "metadata": {
        "id": "H1LK-N5LLBFx"
      },
      "execution_count": null,
      "outputs": []
    },
    {
      "cell_type": "code",
      "source": [
        "cgpa_list = []\n",
        "cgpa = df['CGPA']\n",
        "for i in range(len(cgpa)):\n",
        "  if(check[i] == 'Male'):\n",
        "    x = float(cgpa[i])\n",
        "    cgpa_list.append(x)"
      ],
      "metadata": {
        "id": "j5a2SqoTLE3a"
      },
      "execution_count": null,
      "outputs": []
    },
    {
      "cell_type": "code",
      "source": [
        "fig, ax = pyplot.subplots(figsize=(6, 5))\n",
        "(\n",
        "    pd.cut(cgpa, bins=np.arange(0, 4, 0.5))\n",
        "        .value_counts()\n",
        "        .sort_index()\n",
        "        .plot.bar(ax=ax)\n",
        ")"
      ],
      "metadata": {
        "id": "QAMqUtC8LKQL"
      },
      "execution_count": null,
      "outputs": []
    },
    {
      "cell_type": "code",
      "source": [
        "HSC1=df['HSSC-1']"
      ],
      "metadata": {
        "id": "nS1RarIdLOuc"
      },
      "execution_count": null,
      "outputs": []
    },
    {
      "cell_type": "code",
      "source": [
        "male=[]\n",
        "female=[]"
      ],
      "metadata": {
        "id": "zbRtbG4vLS3c"
      },
      "execution_count": null,
      "outputs": []
    },
    {
      "cell_type": "code",
      "source": [
        "for i in range(len(check)): \n",
        "  if(check[i] == 'Male'):\n",
        "    x = int(HSC1[i])\n",
        "    male.append(x)\n",
        "  if(check[i] == 'Female'):\n",
        "     y = int(HSC1[i])\n",
        "     female.append(y)"
      ],
      "metadata": {
        "id": "qkf_Cd5nLXYc"
      },
      "execution_count": null,
      "outputs": []
    },
    {
      "cell_type": "code",
      "source": [
        "import numpy\n",
        "import matplotlib.pyplot as plt\n",
        "\n",
        "arr = numpy.array(male)\n",
        "arr1 = numpy.array(female)\n",
        "plt.scatter(arr, arr)\n",
        "plt.scatter(arr1, arr1)\n",
        "\n",
        "plt.show()"
      ],
      "metadata": {
        "id": "lE-FU9NxLYfF"
      },
      "execution_count": null,
      "outputs": []
    },
    {
      "cell_type": "code",
      "source": [
        "colour=df['FavoriteColor']"
      ],
      "metadata": {
        "id": "ODxp4dazLc5m"
      },
      "execution_count": null,
      "outputs": []
    },
    {
      "cell_type": "code",
      "source": [
        "malecolor=[]\n",
        "femlaecolor=[]\n"
      ],
      "metadata": {
        "id": "pFFE2IgbLhiO"
      },
      "execution_count": null,
      "outputs": []
    },
    {
      "cell_type": "code",
      "source": [
        "for i in range(len(check)): \n",
        "  if(check[i] == 'Male'):\n",
        "    x = (colour[i])\n",
        "    malecolor.append(x)\n",
        "  if(check[i] == 'Female'):\n",
        "     y = (colour[i])\n",
        "     femlaecolor.append(y)"
      ],
      "metadata": {
        "id": "z2JvJckVLksn"
      },
      "execution_count": null,
      "outputs": []
    },
    {
      "cell_type": "code",
      "source": [
        "fig = plt.figure(figsize =(10, 7))\n",
        " \n",
        "# Horizontal Bar Plot\n",
        "plt.bar(malecolor[0:10],femlaecolor[0:10])\n",
        " \n",
        "# Show Plot\n",
        "plt.show()"
      ],
      "metadata": {
        "id": "vBV2oe_yLo-L"
      },
      "execution_count": null,
      "outputs": []
    },
    {
      "cell_type": "code",
      "source": [
        "plt.plot(colour,y)\n",
        "plt.title('graph')\n",
        "plt.xlabel('colour')\n",
        "plt.ylabel('y')\n",
        "plt.show()\n"
      ],
      "metadata": {
        "id": "ifZWujezLsKc"
      },
      "execution_count": null,
      "outputs": []
    },
    {
      "cell_type": "code",
      "source": [
        "p=df['HSSC-2']\n",
        "X=df['HSSC-1']"
      ],
      "metadata": {
        "id": "PTzoZQgzLw-i"
      },
      "execution_count": null,
      "outputs": []
    },
    {
      "cell_type": "code",
      "source": [
        "float(HSSC1)\n",
        "float(p)"
      ],
      "metadata": {
        "id": "IavI3mazL1PN"
      },
      "execution_count": null,
      "outputs": []
    },
    {
      "cell_type": "code",
      "source": [
        "\n",
        "matrix = np.corrcoef(X, p)\n",
        "print(matrix)"
      ],
      "metadata": {
        "colab": {
          "base_uri": "https://localhost:8080/"
        },
        "id": "tPgA8O7PbVj5",
        "outputId": "f4fea609-c464-4f0c-8873-8d170170e7c9"
      },
      "execution_count": null,
      "outputs": [
        {
          "output_type": "stream",
          "name": "stdout",
          "text": [
            "[[1.         0.06686309]\n",
            " [0.06686309 1.        ]]\n"
          ]
        }
      ]
    },
    {
      "cell_type": "code",
      "source": [
        "sn.heatmap(matrix, annot=True)\n",
        "plt.show()"
      ],
      "metadata": {
        "id": "U42AIEC_L7mQ"
      },
      "execution_count": null,
      "outputs": []
    }
  ]
}